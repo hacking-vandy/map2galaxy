{
 "cells": [
  {
   "cell_type": "code",
   "execution_count": 17,
   "metadata": {},
   "outputs": [],
   "source": [
    "import csv\n",
    "from tqdm import tqdm\n",
    "from uszipcode import SearchEngine\n",
    "import json\n",
    "import matplotlib.pyplot as plt\n",
    "zipsearch = SearchEngine(simple_zipcode=True)"
   ]
  },
  {
   "cell_type": "code",
   "execution_count": 59,
   "metadata": {},
   "outputs": [
    {
     "name": "stderr",
     "output_type": "stream",
     "text": [
      "\n",
      "\n",
      "0it [00:00, ?it/s]\u001b[A\u001b[A\n",
      "\n",
      "89it [00:00, 877.44it/s]\u001b[A\u001b[A\n",
      "\n",
      "180it [00:00, 892.46it/s]\u001b[A\u001b[A\n",
      "\n",
      "270it [00:00, 892.89it/s]\u001b[A\u001b[A\n",
      "\n",
      "361it [00:00, 896.69it/s]\u001b[A\u001b[A\n",
      "\n",
      "447it [00:00, 888.61it/s]\u001b[A\u001b[A\n",
      "\n",
      "530it [00:00, 877.01it/s]\u001b[A\u001b[A\n",
      "\n",
      "612it [00:00, 868.55it/s]\u001b[A\u001b[A\n",
      "\n",
      "697it [00:00, 865.70it/s]\u001b[A\u001b[A\n",
      "\n",
      "784it [00:00, 865.21it/s]\u001b[A\u001b[A\n",
      "\n",
      "870it [00:01, 864.53it/s]\u001b[A\u001b[A\n",
      "\n",
      "955it [00:01, 861.91it/s]\u001b[A\u001b[A\n",
      "\n",
      "1040it [00:01, 861.00it/s]\u001b[A\u001b[A\n",
      "\n",
      "1124it [00:01, 858.84it/s]\u001b[A\u001b[A\n",
      "\n",
      "1218it [00:01, 864.23it/s]\u001b[A\u001b[A\n",
      "\n",
      "1308it [00:01, 866.33it/s]\u001b[A\u001b[A\n",
      "\n",
      "1399it [00:01, 868.74it/s]\u001b[A\u001b[A\n",
      "\n",
      "1490it [00:01, 871.04it/s]\u001b[A\u001b[A\n",
      "\n",
      "1580it [00:01, 865.83it/s]\u001b[A\u001b[A\n",
      "\n",
      "1670it [00:01, 867.12it/s]\u001b[A\u001b[A\n",
      "\n",
      "1757it [00:02, 865.54it/s]\u001b[A\u001b[A\n",
      "\n",
      "1848it [00:02, 867.46it/s]\u001b[A\u001b[A\n",
      "\n",
      "1939it [00:02, 869.03it/s]\u001b[A\u001b[A\n",
      "\n",
      "2028it [00:02, 867.45it/s]\u001b[A\u001b[A\n",
      "\n",
      "2115it [00:02, 865.61it/s]\u001b[A\u001b[A\n",
      "\n",
      "2201it [00:02, 865.08it/s]\u001b[A\u001b[A\n",
      "\n",
      "2289it [00:02, 865.42it/s]\u001b[A\u001b[A\n",
      "\n",
      "2377it [00:02, 865.82it/s]\u001b[A\u001b[A\n",
      "\n",
      "2466it [00:02, 866.32it/s]\u001b[A\u001b[A\n",
      "\n",
      "2553it [00:02, 866.11it/s]\u001b[A\u001b[A\n",
      "\n",
      "2640it [00:03, 865.83it/s]\u001b[A\u001b[A\n",
      "\n",
      "2728it [00:03, 866.02it/s]\u001b[A\u001b[A\n",
      "\n",
      "2815it [00:03, 864.02it/s]\u001b[A\u001b[A\n",
      "\n",
      "2900it [00:03, 863.37it/s]\u001b[A\u001b[A\n",
      "\n",
      "2992it [00:03, 864.77it/s]\u001b[A\u001b[A\n",
      "\n",
      "3079it [00:03, 864.89it/s]\u001b[A\u001b[A\n",
      "\n",
      "3166it [00:03, 864.93it/s]\u001b[A\u001b[A\n",
      "\n",
      "3253it [00:03, 864.30it/s]\u001b[A\u001b[A\n",
      "\n",
      "3340it [00:03, 864.32it/s]\u001b[A\u001b[A\n",
      "\n",
      "3427it [00:03, 863.81it/s]\u001b[A\u001b[A\n",
      "\n",
      "3513it [00:04, 862.13it/s]\u001b[A\u001b[A\n",
      "\n",
      "3602it [00:04, 862.56it/s]\u001b[A\u001b[A\n",
      "\n",
      "3688it [00:04, 862.15it/s]\u001b[A\u001b[A\n",
      "\n",
      "3774it [00:04, 861.23it/s]\u001b[A\u001b[A\n",
      "\n",
      "3859it [00:04, 860.12it/s]\u001b[A\u001b[A\n",
      "\n",
      "3944it [00:04, 859.67it/s]\u001b[A\u001b[A\n",
      "\n",
      "4031it [00:04, 859.79it/s]\u001b[A\u001b[A\n",
      "\n",
      "4116it [00:04, 859.47it/s]\u001b[A\u001b[A\n",
      "\n",
      "4201it [00:04, 858.68it/s]\u001b[A\u001b[A\n",
      "\n",
      "4286it [00:04, 858.41it/s]\u001b[A\u001b[A\n",
      "\n",
      "4370it [00:05, 824.51it/s]\u001b[A\u001b[A\n",
      "\n",
      "4458it [00:05, 825.51it/s]\u001b[A\u001b[A\n",
      "\n",
      "4549it [00:05, 826.96it/s]\u001b[A\u001b[A\n",
      "\n",
      "4634it [00:05, 827.37it/s]\u001b[A\u001b[A\n",
      "\n",
      "4721it [00:05, 828.14it/s]\u001b[A\u001b[A\n",
      "\n",
      "4793it [00:05, 828.51it/s]\u001b[A\u001b[A"
     ]
    }
   ],
   "source": [
    "hospitals = []\n",
    "with open(\"Hospital_General_Information.csv\") as csvfile:\n",
    "    reader = csv.DictReader(csvfile)\n",
    "    for row in tqdm(reader):\n",
    "        h = {}\n",
    "        h[\"state\"] = row[\"State\"]\n",
    "        if h[\"state\"] not in [\"HI\", \"AK\"]:\n",
    "            h[\"name\"] = row[\"Hospital Name\"]\n",
    "            h[\"city\"] = row[\"City\"]\n",
    "            h[\"score\"] = row[\"Hospital overall rating\"]\n",
    "            zipcode = zipsearch.by_zipcode(row[\"ZIP Code\"])\n",
    "            zj = json.loads(zipcode.to_json())\n",
    "            if zj[\"lat\"]:\n",
    "                h[\"lat\"] = float(zj[\"lat\"])\n",
    "                h[\"lng\"] = float(zj[\"lng\"])\n",
    "                hospitals.append(h)"
   ]
  },
  {
   "cell_type": "code",
   "execution_count": 60,
   "metadata": {},
   "outputs": [
    {
     "data": {
      "text/plain": [
       "[{'state': 'AL',\n",
       "  'name': 'MARSHALL MEDICAL CENTER SOUTH',\n",
       "  'city': 'BOAZ',\n",
       "  'score': '2',\n",
       "  'lat': 34.2,\n",
       "  'lng': -86.2},\n",
       " {'state': 'AL',\n",
       "  'name': 'DEKALB REGIONAL MEDICAL CENTER',\n",
       "  'city': 'FORT PAYNE',\n",
       "  'score': '3',\n",
       "  'lat': 34.5,\n",
       "  'lng': -85.8},\n",
       " {'state': 'AL',\n",
       "  'name': 'HALE COUNTY HOSPITAL',\n",
       "  'city': 'GREENSBORO',\n",
       "  'score': '3',\n",
       "  'lat': 32.7,\n",
       "  'lng': -87.6}]"
      ]
     },
     "execution_count": 60,
     "metadata": {},
     "output_type": "execute_result"
    }
   ],
   "source": [
    "hospitals[:3]"
   ]
  },
  {
   "cell_type": "code",
   "execution_count": 61,
   "metadata": {},
   "outputs": [
    {
     "name": "stderr",
     "output_type": "stream",
     "text": [
      "\n",
      "\n",
      "0it [00:00, ?it/s]\u001b[A\u001b[A\n",
      "\n",
      "11503it [00:00, 114295.17it/s]\u001b[A\u001b[A\n",
      "\n",
      "23005it [00:00, 114500.56it/s]\u001b[A\u001b[A\n",
      "\n",
      "34824it [00:00, 115715.48it/s]\u001b[A\u001b[A\n",
      "\n",
      "36651it [00:00, 114727.67it/s]\u001b[A\u001b[A"
     ]
    },
    {
     "name": "stdout",
     "output_type": "stream",
     "text": [
      "423\n"
     ]
    }
   ],
   "source": [
    "cities = []\n",
    "with open(\"uscitiesv1.4.csv\") as csvfile:\n",
    "    reader = csv.DictReader(csvfile)\n",
    "    for row in tqdm(reader):\n",
    "        c = {}\n",
    "#         if row[\"city_ascii\"] == \"Atlanta\":\n",
    "#             print(row)\n",
    "#             print(row[\"population\"])\n",
    "        if row[\"population\"] != \"\" and float(row[\"population\"]) > 100000:\n",
    "            c[\"state\"] = row[\"state_id\"]\n",
    "            if c[\"state\"] not in [\"HI\", \"AK\"]:\n",
    "                c[\"pop\"] = int(float(row[\"population\"]))\n",
    "                c[\"name\"] = row[\"city_ascii\"]\n",
    "                c[\"lat\"] = row[\"lat\"]\n",
    "                c[\"lng\"] = row[\"lng\"]\n",
    "                cities.append(c)\n",
    "print(len(cities))"
   ]
  },
  {
   "cell_type": "code",
   "execution_count": 62,
   "metadata": {},
   "outputs": [
    {
     "data": {
      "text/plain": [
       "[{'state': 'WA',\n",
       "  'pop': '100953',\n",
       "  'name': 'Renton',\n",
       "  'lat': '47.4757',\n",
       "  'lng': '-122.1904'},\n",
       " {'state': 'WA',\n",
       "  'pop': '3541236.0',\n",
       "  'name': 'Seattle',\n",
       "  'lat': '47.6217',\n",
       "  'lng': '-122.3238'},\n",
       " {'state': 'WA',\n",
       "  'pop': '133687.0',\n",
       "  'name': 'Yakima',\n",
       "  'lat': '46.5926',\n",
       "  'lng': '-120.5492'},\n",
       " {'state': 'WA',\n",
       "  'pop': '229624.0',\n",
       "  'name': 'Kennewick',\n",
       "  'lat': '46.1979',\n",
       "  'lng': '-119.1732'},\n",
       " {'state': 'WA',\n",
       "  'pop': '127514',\n",
       "  'name': 'Kent',\n",
       "  'lat': '47.3887',\n",
       "  'lng': '-122.2128'},\n",
       " {'state': 'WA',\n",
       "  'pop': '194532.0',\n",
       "  'name': 'Olympia',\n",
       "  'lat': '47.0417',\n",
       "  'lng': '-122.8958'},\n",
       " {'state': 'WA',\n",
       "  'pop': '214549.0',\n",
       "  'name': 'Bremerton',\n",
       "  'lat': '47.5436',\n",
       "  'lng': '-122.7121'},\n",
       " {'state': 'WA',\n",
       "  'pop': '211277',\n",
       "  'name': 'Tacoma',\n",
       "  'lat': '47.2431',\n",
       "  'lng': '-122.4531'},\n",
       " {'state': 'WA',\n",
       "  'pop': '141400',\n",
       "  'name': 'Bellevue',\n",
       "  'lat': '47.5953',\n",
       "  'lng': '-122.1550'},\n",
       " {'state': 'WA',\n",
       "  'pop': '163547.0',\n",
       "  'name': 'Marysville',\n",
       "  'lat': '48.0812',\n",
       "  'lng': '-122.1559'}]"
      ]
     },
     "execution_count": 62,
     "metadata": {},
     "output_type": "execute_result"
    }
   ],
   "source": [
    "cities[:10]"
   ]
  },
  {
   "cell_type": "code",
   "execution_count": null,
   "metadata": {},
   "outputs": [],
   "source": [
    "plt.figure(figsize=(20,20))\n",
    "for c in cities:\n",
    "    plt.plot(float(c[\"lng\"]), float(c[\"lat\"]), 'ro')\n",
    "for h in hospitals:\n",
    "    plt.plot(float(h[\"lng\"]), float(h[\"lat\"]), 'yo')\n",
    "plt.show()"
   ]
  },
  {
   "cell_type": "code",
   "execution_count": 46,
   "metadata": {},
   "outputs": [
    {
     "name": "stdout",
     "output_type": "stream",
     "text": [
      "{'pop': '5080712.0', 'state': 'GA', 'name': 'Atlanta', 'lat': '33.7627', 'lng': '-84.4231'}\n"
     ]
    }
   ],
   "source": [
    "for c in cities:\n",
    "    if c['name'] == \"Atlanta\":\n",
    "        print(c)"
   ]
  },
  {
   "cell_type": "code",
   "execution_count": null,
   "metadata": {},
   "outputs": [],
   "source": []
  }
 ],
 "metadata": {
  "kernelspec": {
   "display_name": "Python 3",
   "language": "python",
   "name": "python3"
  },
  "language_info": {
   "codemirror_mode": {
    "name": "ipython",
    "version": 3
   },
   "file_extension": ".py",
   "mimetype": "text/x-python",
   "name": "python",
   "nbconvert_exporter": "python",
   "pygments_lexer": "ipython3",
   "version": "3.7.0"
  }
 },
 "nbformat": 4,
 "nbformat_minor": 2
}
